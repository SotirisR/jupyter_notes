{
 "cells": [
  {
   "cell_type": "code",
   "execution_count": 1,
   "id": "c9399ca3",
   "metadata": {},
   "outputs": [
    {
     "data": {
      "text/plain": [
       "('0110',\n",
       " '01001111001010010000110000000',\n",
       " 'starts at position:',\n",
       " 19,\n",
       " 'ends at position:',\n",
       " 23,\n",
       " '0110')"
      ]
     },
     "execution_count": 1,
     "metadata": {},
     "output_type": "execute_result"
    }
   ],
   "source": [
    "#recognize a patern , and start/end position in the string\n",
    "import re\n",
    "pattern = '0110'\n",
    "text = '01001111001010010000110000000'\n",
    "\n",
    "match = re.search(pattern, text) \n",
    "start = match.start()\n",
    "end = match.end()\n",
    "print \n",
    "(match.re.pattern, match.string,  \"starts at position:\" , start, \"ends at position:\", end, text[start:end]) "
   ]
  },
  {
   "cell_type": "code",
   "execution_count": 30,
   "id": "19c6fdd7",
   "metadata": {},
   "outputs": [
    {
     "data": {
      "text/plain": [
       "('jim', 'starts at position', 10, 'ends at position', 13, 'jim')"
      ]
     },
     "execution_count": 30,
     "metadata": {},
     "output_type": "execute_result"
    }
   ],
   "source": [
    "\n",
    "pattern = 'jim'\n",
    "text = 'kelly and jim are together for some time now and they are doing very well'\n",
    "\n",
    "match = re.search(pattern, text) \n",
    "start = match.start()\n",
    "end = match.end()\n",
    "print \n",
    "(match.re.pattern,  \"starts at position\", start, \"ends at position\", end, text[start:end]) "
   ]
  },
  {
   "cell_type": "code",
   "execution_count": 27,
   "id": "3552ab2b",
   "metadata": {},
   "outputs": [
    {
     "name": "stdout",
     "output_type": "stream",
     "text": [
      "['0110', '0110']\n"
     ]
    }
   ],
   "source": [
    "#a simple match , find all\n",
    "\n",
    "pattern = '0110'\n",
    "text = '010011110010100100001101010011000'\n",
    "match = re.findall(pattern, text)\n",
    "\n",
    "\n",
    "print (match)"
   ]
  },
  {
   "cell_type": "code",
   "execution_count": 4,
   "id": "41b36e1d",
   "metadata": {},
   "outputs": [
    {
     "name": "stdout",
     "output_type": "stream",
     "text": [
      "match found\n"
     ]
    }
   ],
   "source": [
    "#if any of the characters in [tzRo4] matches the missing symbol , its a match\n",
    "\n",
    "x=re.match('hell[tzRo4] world','hello world') \n",
    "if x:\n",
    "    print(\"match found\")\n",
    "else:\n",
    "    print(\"no match\")"
   ]
  },
  {
   "cell_type": "code",
   "execution_count": 5,
   "id": "74d5e463",
   "metadata": {},
   "outputs": [
    {
     "name": "stdout",
     "output_type": "stream",
     "text": [
      "The email \"no-reply@example.net\" is valid\n"
     ]
    }
   ],
   "source": [
    "#email validation\n",
    "\n",
    "email = 'no-reply@example.net'\n",
    "pattern = r'[A-Za-z0-9._%+-]+@[A-Za-z0-9.-]+\\.[A-Z|a-z]{2,}'\n",
    "match = re.fullmatch(pattern, email)\n",
    "\n",
    "if match is not None:\n",
    "    print(f'The email \"{match.group()}\" is valid')    \n",
    "else:\n",
    "    print(f'The email \"{email}\"\" is not valid')"
   ]
  },
  {
   "cell_type": "code",
   "execution_count": 7,
   "id": "f1153f4c",
   "metadata": {},
   "outputs": [
    {
     "name": "stdout",
     "output_type": "stream",
     "text": [
      "somedomain.com\n"
     ]
    }
   ],
   "source": [
    "#extract domain\n",
    "pattern = \"^[a-zA-Z]+@([a-z]*\\.[a-z]+)$\"\n",
    "search_string = \"someUser@somedomain.com\"\n",
    "match = re.match(pattern, search_string)\n",
    "\n",
    "if match:\n",
    "    domain_name = match.groups()[0]\n",
    "    print(domain_name)"
   ]
  },
  {
   "cell_type": "code",
   "execution_count": 8,
   "id": "f3a82056",
   "metadata": {},
   "outputs": [
    {
     "name": "stdout",
     "output_type": "stream",
     "text": [
      "match 1 Jessa start index 0 End index 5\n",
      "match 2 Kelly start index 20 End index 25\n",
      "match 3 marks start index 36 End index 41\n"
     ]
    }
   ],
   "source": [
    "\n",
    "target_string = \"Jessa scored 56 and Kelly scored 65 marks\"\n",
    "count = 0\n",
    "# \\w matches any alphanumeric character\n",
    "# \\b indicate word boundary\n",
    "# {5} indicate five-letter word\n",
    "for match in re.finditer(r'\\b\\w{5}\\b', target_string):\n",
    "    count += 1\n",
    "    print(\"match\", count, match.group(), \"start index\", match.start(), \"End index\", match.end())"
   ]
  },
  {
   "cell_type": "code",
   "execution_count": 2,
   "id": "e1e2cbd3",
   "metadata": {},
   "outputs": [
    {
     "name": "stdout",
     "output_type": "stream",
     "text": [
      "match found\n"
     ]
    }
   ],
   "source": [
    "\n",
    "x=re.match('^(toys/)$','toys/') \n",
    "z=re.match('^(toys/)([0-9]+)$','toys/1815') \n",
    "\n",
    "if z:\n",
    "    print(\"match found\")\n",
    "\n",
    "else:\n",
    "    print(\"no match\")"
   ]
  },
  {
   "cell_type": "code",
   "execution_count": null,
   "id": "9d64b78c",
   "metadata": {},
   "outputs": [],
   "source": [
    "\n",
    "x=re.match('^(0*10*)$','00000100') \n",
    "\n",
    "if x:\n",
    "    print(\"match found\")\n",
    "\n",
    "else:\n",
    "    print(\"no match\")"
   ]
  },
  {
   "cell_type": "code",
   "execution_count": null,
   "id": "4b6459fb",
   "metadata": {},
   "outputs": [],
   "source": [
    "\n",
    "x=re.search('^([0-1]11[0-1])$','0010011000') \n",
    "\n",
    "if x:\n",
    "    print(\"match found\")\n",
    "\n",
    "else:\n",
    "    print(\"no match\")"
   ]
  },
  {
   "cell_type": "code",
   "execution_count": 2,
   "id": "ae5958fb",
   "metadata": {},
   "outputs": [
    {
     "data": {
      "text/plain": [
       "('John Doe', 'hello i am the real John Doe, seriously', 20, 28, 'John Doe')"
      ]
     },
     "execution_count": 2,
     "metadata": {},
     "output_type": "execute_result"
    }
   ],
   "source": [
    "#find pattern\n",
    "pattern = 'John Doe'\n",
    "text = 'hello i am the real John Doe, seriously'\n",
    "match = re.search(pattern, text)\n",
    "start = match.start()\n",
    "end = match.end()\n",
    "print \n",
    "(match.re.pattern, match.string, start, end, text[start:end]) "
   ]
  },
  {
   "cell_type": "code",
   "execution_count": 3,
   "id": "add375d3",
   "metadata": {},
   "outputs": [
    {
     "name": "stdout",
     "output_type": "stream",
     "text": [
      "match found\n"
     ]
    }
   ],
   "source": [
    "\n",
    "x=re.match('^products/([a-z]{5})/([0-9]{2})$','products/shoes/24') \n",
    "\n",
    "if x:\n",
    "    print(\"match found\")\n",
    "\n",
    "else:\n",
    "    print(\"no match\")"
   ]
  },
  {
   "cell_type": "code",
   "execution_count": 4,
   "id": "252bf922",
   "metadata": {},
   "outputs": [
    {
     "name": "stdout",
     "output_type": "stream",
     "text": [
      "['cat', 'Chair']\n"
     ]
    }
   ],
   "source": [
    "#find all words that start with c ( small or cap )\n",
    "\n",
    "x= re.findall(r'\\bc\\w+', 'cat , bear , dog , boat , table , Chair' , re.IGNORECASE) #case insensitive\n",
    "print(x)"
   ]
  },
  {
   "cell_type": "code",
   "execution_count": 2,
   "id": "15650614",
   "metadata": {},
   "outputs": [
    {
     "name": "stdout",
     "output_type": "stream",
     "text": [
      "28-37: carefully\n",
      "52-59: quickly\n"
     ]
    }
   ],
   "source": [
    "#find all adverbs and their positions in the text\n",
    "\n",
    "text = \"He designed the new website carefully and implemented it  quickly before deadline.\"\n",
    "for m in re.finditer(r\"\\w+ly\\b\", text):\n",
    "    print('%02d-%02d: %s' % (m.start(), m.end(), m.group(0)))"
   ]
  },
  {
   "cell_type": "code",
   "execution_count": 6,
   "id": "14422581",
   "metadata": {},
   "outputs": [
    {
     "name": "stdout",
     "output_type": "stream",
     "text": [
      "match found\n"
     ]
    }
   ],
   "source": [
    "#using special characters as text like ( ) \n",
    "x=re.match('^\\(123\\)$','(123)') \n",
    "\n",
    "if x:\n",
    "    print(\"match found\")\n",
    "\n",
    "else:\n",
    "    print(\"no match\")"
   ]
  },
  {
   "cell_type": "code",
   "execution_count": 33,
   "id": "c84f6096",
   "metadata": {},
   "outputs": [
    {
     "name": "stdout",
     "output_type": "stream",
     "text": [
      "john.doe@domain.com\n",
      "user@domain2.com\n"
     ]
    }
   ],
   "source": [
    "#extract emails\n",
    "\n",
    "text = 'Some text containing the email addresses john.doe@domain.com, user@domain2.com'\n",
    "pattern = re.findall(r'[\\w\\.-]+@[\\w\\.-]+', text)\n",
    "for email in pattern:\n",
    "    print(email)"
   ]
  },
  {
   "cell_type": "code",
   "execution_count": 8,
   "id": "da1b5f87",
   "metadata": {},
   "outputs": [
    {
     "data": {
      "text/plain": [
       "'Einstein'"
      ]
     },
     "execution_count": 8,
     "metadata": {},
     "output_type": "execute_result"
    }
   ],
   "source": [
    "m = re.match(r\"(?P<first_name>\\w+) (?P<last_name>\\w+)\", \"Albert Einstein\")\n",
    "m.group('first_name') #Albert\n",
    "m.group('last_name')  #Einstein"
   ]
  },
  {
   "cell_type": "code",
   "execution_count": 5,
   "id": "b210b4ab",
   "metadata": {},
   "outputs": [
    {
     "data": {
      "text/plain": [
       "'Albert Einstein'"
      ]
     },
     "execution_count": 5,
     "metadata": {},
     "output_type": "execute_result"
    }
   ],
   "source": [
    "m = re.match(r\"(\\w+) (\\w+)\", \"Albert Einstein relativity theory\")\n",
    "m.group(0)       # Albert Einstein\n",
    "#m.group(1)    #Albert\n",
    "#m.group(2)   #Einstein\n",
    "\n"
   ]
  },
  {
   "cell_type": "code",
   "execution_count": 2,
   "id": "45cba1f0",
   "metadata": {},
   "outputs": [
    {
     "data": {
      "text/plain": [
       "{'first_name': 'John', 'last_name': 'Lennon'}"
      ]
     },
     "execution_count": 2,
     "metadata": {},
     "output_type": "execute_result"
    }
   ],
   "source": [
    "#import to dictionary\n",
    "\n",
    "m = re.match(r\"(?P<first_name>\\w+) (?P<last_name>\\w+)\", \"John Lennon\")\n",
    "m.groupdict()\n"
   ]
  },
  {
   "cell_type": "code",
   "execution_count": 7,
   "id": "5ea81503",
   "metadata": {},
   "outputs": [
    {
     "data": {
      "text/plain": [
       "['<h1>This is some html</h1>']"
      ]
     },
     "execution_count": 7,
     "metadata": {},
     "output_type": "execute_result"
    }
   ],
   "source": [
    "#parse html\n",
    "html = 'some text <h1>This is some html</h1> some text '\n",
    "re.findall(r'<.*>', html)\n"
   ]
  },
  {
   "cell_type": "code",
   "execution_count": 4,
   "id": "7d6570ee",
   "metadata": {},
   "outputs": [
    {
     "data": {
      "text/plain": [
       "['<h1>', '</h1>']"
      ]
     },
     "execution_count": 4,
     "metadata": {},
     "output_type": "execute_result"
    }
   ],
   "source": [
    "#parse html2\n",
    "html = 'some code <h1>This is some html</h1> some more code '\n",
    "re.findall(r'<.*?>', html) "
   ]
  },
  {
   "cell_type": "code",
   "execution_count": 3,
   "id": "b3cf87aa",
   "metadata": {},
   "outputs": [
    {
     "data": {
      "text/plain": [
       "('<input type=\"hidden\"',\n",
       " 'some code <input type=\"hidden\" id=\"postId\" name=\"post_name\" value=\"123\" /> some more code ',\n",
       " 'starts at position:',\n",
       " 10,\n",
       " 'ends at position:',\n",
       " 30,\n",
       " '<input type=\"hidden\"')"
      ]
     },
     "execution_count": 3,
     "metadata": {},
     "output_type": "execute_result"
    }
   ],
   "source": [
    "#find html hidden fields\n",
    "import re\n",
    "html_pattern = '<input type=\"hidden\"'\n",
    "html = 'some code <input type=\"hidden\" id=\"postId\" name=\"post_name\" value=\"123\" /> some more code '\n",
    "match = re.search(html_pattern, html) \n",
    "start_html = match.start()\n",
    "end_html = match.end()\n",
    "print \n",
    "(match.re.pattern, match.string,  \"starts at position:\" , start_html, \"ends at position:\", end_html, html[start_html:end_html]) \n"
   ]
  },
  {
   "cell_type": "code",
   "execution_count": null,
   "id": "15848bec",
   "metadata": {},
   "outputs": [],
   "source": []
  }
 ],
 "metadata": {
  "kernelspec": {
   "display_name": "Python 3 (ipykernel)",
   "language": "python",
   "name": "python3"
  },
  "language_info": {
   "codemirror_mode": {
    "name": "ipython",
    "version": 3
   },
   "file_extension": ".py",
   "mimetype": "text/x-python",
   "name": "python",
   "nbconvert_exporter": "python",
   "pygments_lexer": "ipython3",
   "version": "3.9.7"
  }
 },
 "nbformat": 4,
 "nbformat_minor": 5
}
